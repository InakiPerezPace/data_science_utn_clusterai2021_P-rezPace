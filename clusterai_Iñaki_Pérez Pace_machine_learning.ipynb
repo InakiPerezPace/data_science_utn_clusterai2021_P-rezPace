{
 "cells": [
  {
   "cell_type": "markdown",
   "metadata": {},
   "source": [
    "# ClusterAl 2021\n",
    "\n",
    "\n",
    "# Ciencia de Datos - Ingenieria Industrial UTN BA\n",
    "# Curso I5521\n",
    "\n",
    "\n",
    "## \"Establecimientos Educativos\"\n",
    "\n",
    "#### Docente: Martin Palazzo\n",
    "\n",
    "#### Mentor: Julian Boglio\n",
    "\n",
    "####  Grupo N°0\n",
    "#### CAPDEVILA, Ailín\n",
    "#### PEREZ PACE, Iñaki"
   ]
  },
  {
   "cell_type": "markdown",
   "metadata": {},
   "source": [
    "El Ministerio de Educación e Innovación por medio de la Unidad de Evaluación Integral de la Calidad y Equidad Educativa y especificamente la Coordinación General de Información y Estadística Educativa, propocionó este Dataset en forma abierta donde se encuentran el listado con ubicación geográfica de los establecimientos educativos de la Ciudad.\n",
    "\n",
    "La Ciudad de Buenos Aires consta de 15 comunas, \n",
    "21 distritos escolares, con establecimientos educativos divididos en sector privado o estatal.\n",
    "\n",
    "<img src=\"distritos-escolares.png\" style=\"width: 500px;\"/>\n",
    "<img src=\"comunas.jpg\" style=\"width: 500px;\"/>"
   ]
  },
  {
   "cell_type": "markdown",
   "metadata": {},
   "source": [
    "Importamos paquetes de herramientas"
   ]
  },
  {
   "cell_type": "code",
   "execution_count": 1,
   "metadata": {
    "colab": {
     "base_uri": "https://localhost:8080/",
     "height": 72,
     "resources": {
      "http://localhost:8080/nbextensions/google.colab/files.js": {
       "data": "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",
       "headers": [
        [
         "content-type",
         "application/javascript"
        ]
       ],
       "ok": true,
       "status": 200,
       "status_text": ""
      }
     }
    },
    "executionInfo": {
     "elapsed": 147601,
     "status": "ok",
     "timestamp": 1603647178224,
     "user": {
      "displayName": "JAVIER AGUSTIN NISIMURA",
      "photoUrl": "",
      "userId": "14672891135604075839"
     },
     "user_tz": 180
    },
    "id": "YSpwFh4gJKew",
    "outputId": "9aacb18f-fe60-4bbc-ecc8-a3c4a4bd2df9"
   },
   "outputs": [],
   "source": [
    "#Datos\n",
    "import pandas as pd\n",
    "import numpy as np\n",
    "#Graficos \n",
    "import matplotlib.pyplot as plt\n",
    "import seaborn as sns\n",
    "#Otros \n",
    "import warnings\n",
    "warnings.filterwarnings('ignore')\n",
    "#Aprendizaje supervisado \n",
    "from sklearn import svm, datasets, preprocessing\n",
    "from sklearn.svm import SVC\n",
    "from sklearn.preprocessing import MinMaxScaler\n",
    "from sklearn import linear_model\n",
    "from sklearn.model_selection import train_test_split\n",
    "from sklearn.linear_model import LinearRegression\n",
    "from sklearn import metrics\n",
    "from sklearn.metrics import r2_score, mean_squared_error, mean_absolute_error,accuracy_score, roc_curve, auc, confusion_matrix\n",
    "from sklearn.neighbors import KNeighborsClassifier\n",
    "from sklearn.model_selection import cross_val_score\n",
    "from sklearn.model_selection import GridSearchCV"
   ]
  },
  {
   "cell_type": "markdown",
   "metadata": {},
   "source": [
    "Importamos el data set Establecimientos educativos"
   ]
  },
  {
   "cell_type": "code",
   "execution_count": 2,
   "metadata": {},
   "outputs": [],
   "source": [
    "# Establecimiento educativos Data Frame\n",
    "est_educ_df = pd.read_csv('establecimientos_educativos_WGS84.csv')"
   ]
  },
  {
   "cell_type": "markdown",
   "metadata": {},
   "source": [
    "Conocemos el tamaño del data frame"
   ]
  },
  {
   "cell_type": "code",
   "execution_count": 3,
   "metadata": {},
   "outputs": [
    {
     "data": {
      "text/plain": [
       "(2880, 27)"
      ]
     },
     "execution_count": 3,
     "metadata": {},
     "output_type": "execute_result"
    }
   ],
   "source": [
    "est_educ_df.shape"
   ]
  },
  {
   "cell_type": "markdown",
   "metadata": {},
   "source": [
    "Conocemos las columnas del dataframe"
   ]
  },
  {
   "cell_type": "code",
   "execution_count": 4,
   "metadata": {
    "scrolled": true
   },
   "outputs": [
    {
     "name": "stdout",
     "output_type": "stream",
     "text": [
      "['cui' 'cueanexo' 'cue' 'anexo' 'sector' 'dom_edific' 'dom_establ'\n",
      " 'nombre_est' 'nombre_abr' 'telefono' 'email' 'codpost' 'web_megcba'\n",
      " 'nivmod' 'nivelmodal' 'tipest_abr' 'tipest' 'depfun' 'depfun_otr' 'de'\n",
      " 'comuna' 'barrio' 'area_progr' 'estado' 'point_x' 'point_y' 'Nivel']\n",
      "__________________________________________________\n",
      "<class 'pandas.core.frame.DataFrame'>\n",
      "RangeIndex: 2880 entries, 0 to 2879\n",
      "Data columns (total 27 columns):\n",
      "cui           2880 non-null int64\n",
      "cueanexo      2880 non-null int64\n",
      "cue           2880 non-null int64\n",
      "anexo         2880 non-null int64\n",
      "sector        2880 non-null float64\n",
      "dom_edific    2880 non-null object\n",
      "dom_establ    2880 non-null object\n",
      "nombre_est    2880 non-null object\n",
      "nombre_abr    2879 non-null object\n",
      "telefono      2879 non-null object\n",
      "email         2867 non-null object\n",
      "codpost       2880 non-null object\n",
      "web_megcba    2861 non-null object\n",
      "nivmod        2880 non-null object\n",
      "nivelmodal    2880 non-null object\n",
      "tipest_abr    2847 non-null object\n",
      "tipest        2880 non-null object\n",
      "depfun        2847 non-null object\n",
      "depfun_otr    2880 non-null int64\n",
      "de            2880 non-null float64\n",
      "comuna        2880 non-null float64\n",
      "barrio        2880 non-null object\n",
      "area_progr    2880 non-null object\n",
      "estado        2880 non-null int64\n",
      "point_x       2880 non-null float64\n",
      "point_y       2880 non-null float64\n",
      "Nivel         2880 non-null object\n",
      "dtypes: float64(5), int64(6), object(16)\n",
      "memory usage: 607.6+ KB\n",
      "None\n"
     ]
    }
   ],
   "source": [
    "# columnas del dataframe\n",
    "print(est_educ_df.columns.values)\n",
    "print('_'*50)\n",
    "print(est_educ_df.info())"
   ]
  },
  {
   "cell_type": "markdown",
   "metadata": {},
   "source": [
    "### MACHINE LEARNING\n",
    "\n",
    "Comenzaremos acondicionando el dataframe para trabajar con variables numéricas.\n",
    "\n"
   ]
  },
  {
   "cell_type": "code",
   "execution_count": 5,
   "metadata": {},
   "outputs": [
    {
     "data": {
      "text/html": [
       "<div>\n",
       "<style scoped>\n",
       "    .dataframe tbody tr th:only-of-type {\n",
       "        vertical-align: middle;\n",
       "    }\n",
       "\n",
       "    .dataframe tbody tr th {\n",
       "        vertical-align: top;\n",
       "    }\n",
       "\n",
       "    .dataframe thead th {\n",
       "        text-align: right;\n",
       "    }\n",
       "</style>\n",
       "<table border=\"1\" class=\"dataframe\">\n",
       "  <thead>\n",
       "    <tr style=\"text-align: right;\">\n",
       "      <th></th>\n",
       "      <th>Total</th>\n",
       "      <th>Percent</th>\n",
       "    </tr>\n",
       "  </thead>\n",
       "  <tbody>\n",
       "    <tr>\n",
       "      <th>depfun</th>\n",
       "      <td>33</td>\n",
       "      <td>0.011458</td>\n",
       "    </tr>\n",
       "    <tr>\n",
       "      <th>tipest_abr</th>\n",
       "      <td>33</td>\n",
       "      <td>0.011458</td>\n",
       "    </tr>\n",
       "    <tr>\n",
       "      <th>web_megcba</th>\n",
       "      <td>19</td>\n",
       "      <td>0.006597</td>\n",
       "    </tr>\n",
       "    <tr>\n",
       "      <th>email</th>\n",
       "      <td>13</td>\n",
       "      <td>0.004514</td>\n",
       "    </tr>\n",
       "    <tr>\n",
       "      <th>nombre_abr</th>\n",
       "      <td>1</td>\n",
       "      <td>0.000347</td>\n",
       "    </tr>\n",
       "    <tr>\n",
       "      <th>telefono</th>\n",
       "      <td>1</td>\n",
       "      <td>0.000347</td>\n",
       "    </tr>\n",
       "  </tbody>\n",
       "</table>\n",
       "</div>"
      ],
      "text/plain": [
       "            Total   Percent\n",
       "depfun         33  0.011458\n",
       "tipest_abr     33  0.011458\n",
       "web_megcba     19  0.006597\n",
       "email          13  0.004514\n",
       "nombre_abr      1  0.000347\n",
       "telefono        1  0.000347"
      ]
     },
     "execution_count": 5,
     "metadata": {},
     "output_type": "execute_result"
    }
   ],
   "source": [
    "# Cantidad de valores nulos ordenados descendentemente\n",
    "total = est_educ_df.isnull().sum().sort_values(ascending=False)\n",
    "# Porcentaje de lo que representa para cada columna\n",
    "percent = (est_educ_df.isnull().sum()/est_educ_df.isnull().count()).sort_values(ascending=False)\n",
    "# Mostramos los 2 resultados en conjunto.\n",
    "missing_data = pd.concat([total, percent], axis=1, keys=['Total', 'Percent'])\n",
    "missing_data.head(6)"
   ]
  },
  {
   "cell_type": "code",
   "execution_count": 6,
   "metadata": {},
   "outputs": [
    {
     "name": "stdout",
     "output_type": "stream",
     "text": [
      "Nos quedamos con un dataframe de 2825 filas x 27 columnas\n"
     ]
    }
   ],
   "source": [
    "# Limpiamos registros '.dropna'\n",
    "est_educ_df.dropna(how ='any', inplace = True)\n",
    "# Verificamos como quedo el dataset\n",
    "print(f'Nos quedamos con un dataframe de {est_educ_df.shape[0]} filas x {est_educ_df.shape[1]} columnas')"
   ]
  },
  {
   "cell_type": "markdown",
   "metadata": {},
   "source": [
    "Existen valores en la coordenadas que se encuentran fuera de escala por lo que se desea eliminarlos"
   ]
  },
  {
   "cell_type": "code",
   "execution_count": 7,
   "metadata": {},
   "outputs": [],
   "source": [
    "# Elimino outliers\n",
    "esteduc_df = est_educ_df[est_educ_df['point_y'] > 8000 ]"
   ]
  },
  {
   "cell_type": "code",
   "execution_count": 8,
   "metadata": {},
   "outputs": [],
   "source": [
    "esteduc_df['sector'] = esteduc_df['sector'].map({1 : 0 ,2 : 1})"
   ]
  },
  {
   "cell_type": "markdown",
   "metadata": {},
   "source": [
    "### CLASIFICACIÓN_1\n",
    "\n",
    "El objetivo incial será predecir si el establecimiento será estatal o publico segun coordenadas x e y. \n",
    "Trabajaremos con modelos de SVM y KNN para luego medir su performance y elegir el mejor. "
   ]
  },
  {
   "cell_type": "code",
   "execution_count": 9,
   "metadata": {},
   "outputs": [
    {
     "name": "stdout",
     "output_type": "stream",
     "text": [
      "Features: ['point_x', 'point_y']\n",
      "Target: ['sector']\n"
     ]
    }
   ],
   "source": [
    "# Nombre de columnas\n",
    "column_1_names = ['point_x', 'point_y']\n",
    "# Columna target\n",
    "targets_1_name = ['sector']\n",
    "# Nombres de columnas que no estan en el target\n",
    "features_1_names = [i_c for i_c in column_1_names if i_c not in targets_1_name]\n",
    "print('Features:',features_1_names)\n",
    "print('Target:',targets_1_name)"
   ]
  },
  {
   "cell_type": "code",
   "execution_count": 10,
   "metadata": {},
   "outputs": [
    {
     "name": "stdout",
     "output_type": "stream",
     "text": [
      "(2821, 1)\n",
      "(2821, 2)\n"
     ]
    }
   ],
   "source": [
    "# 1) Separamos lo que son las features del target.\n",
    "features_1 = esteduc_df[features_1_names]           \n",
    "target_1 = esteduc_df[targets_1_name]\n",
    "# Guardamos feature matrix en \"X_1\"\n",
    "X_1 = features_1.values\n",
    "# Guardamos target vector in \"Y_1\"\n",
    "Y_1 = target_1.values \n",
    "print(Y_1.shape)\n",
    "print(X_1.shape)"
   ]
  },
  {
   "cell_type": "code",
   "execution_count": 11,
   "metadata": {},
   "outputs": [
    {
     "name": "stdout",
     "output_type": "stream",
     "text": [
      "(1974, 2)\n",
      "(1974, 1)\n"
     ]
    }
   ],
   "source": [
    "#Split train & test\n",
    "# Separar train y test\n",
    "x_1_train, x_1_test, y_1_train, y_1_test = train_test_split(X_1, Y_1, test_size=0.3, random_state=1)\n",
    "#random_state: seed utilizada para poder replicar el experimento ya que la funcion tiene\n",
    "#componentes aleatorios\n",
    "#test_size: numero entre 0 y 1 e indicar la proporcion del dataset que va a ser test. \n",
    "print(x_1_train.shape)\n",
    "print(y_1_train.shape)"
   ]
  },
  {
   "cell_type": "code",
   "execution_count": 12,
   "metadata": {},
   "outputs": [
    {
     "data": {
      "text/plain": [
       "(1974, 2)"
      ]
     },
     "execution_count": 12,
     "metadata": {},
     "output_type": "execute_result"
    }
   ],
   "source": [
    "# observamos como queda la matriz de xtrain\n",
    "x_1_train.shape"
   ]
  },
  {
   "cell_type": "code",
   "execution_count": 13,
   "metadata": {},
   "outputs": [
    {
     "data": {
      "text/plain": [
       "(847, 2)"
      ]
     },
     "execution_count": 13,
     "metadata": {},
     "output_type": "execute_result"
    }
   ],
   "source": [
    "# observamos como queda la matriz de xtest\n",
    "x_1_test.shape"
   ]
  },
  {
   "cell_type": "code",
   "execution_count": 14,
   "metadata": {},
   "outputs": [
    {
     "name": "stdout",
     "output_type": "stream",
     "text": [
      "Fitting 5 folds for each of 56 candidates, totalling 280 fits\n"
     ]
    },
    {
     "name": "stderr",
     "output_type": "stream",
     "text": [
      "[Parallel(n_jobs=1)]: Using backend SequentialBackend with 1 concurrent workers.\n",
      "[Parallel(n_jobs=1)]: Done 280 out of 280 | elapsed:  3.0min finished\n"
     ]
    },
    {
     "data": {
      "text/plain": [
       "GridSearchCV(cv=5, error_score='raise-deprecating',\n",
       "       estimator=SVC(C=1.0, cache_size=200, class_weight=None, coef0=0.0,\n",
       "  decision_function_shape='ovr', degree=3, gamma='auto_deprecated',\n",
       "  kernel='rbf', max_iter=-1, probability=False, random_state=None,\n",
       "  shrinking=True, tol=0.001, verbose=False),\n",
       "       fit_params=None, iid='warn', n_jobs=None,\n",
       "       param_grid={'kernel': ('linear', 'rbf'), 'C': [1, 10, 100, 1000], 'gamma': [0.0001, 0.001, 0.01, 0.1, 1, 10, 100]},\n",
       "       pre_dispatch='2*n_jobs', refit=True, return_train_score='warn',\n",
       "       scoring=None, verbose=1)"
      ]
     },
     "execution_count": 14,
     "metadata": {},
     "output_type": "execute_result"
    }
   ],
   "source": [
    "#Creamos el modelo Support Vector Classification (SVC)\n",
    "svc = svm.SVC()\n",
    "\n",
    "# Hyperparametros\n",
    "parameters = {'kernel':('linear', 'rbf'),\n",
    "              'C':[1, 10, 100, 1000],\n",
    "              'gamma':[0.0001,0.001, 0.01, 0.1,1, 10,100]}\n",
    "# \n",
    "clf = GridSearchCV(svc, # modelo\n",
    "                   param_grid = parameters, # Hyperparametros\n",
    "                   refit = True, # refit nos devuelve el modelo con los mejores parametros encontrados \n",
    "                   cv = 5, # cv indica la cantidad de folds\n",
    "                   verbose=1)\n",
    "clf.fit(x_1_train, y_1_train.ravel())"
   ]
  },
  {
   "cell_type": "code",
   "execution_count": 15,
   "metadata": {},
   "outputs": [
    {
     "data": {
      "text/html": [
       "<div>\n",
       "<style scoped>\n",
       "    .dataframe tbody tr th:only-of-type {\n",
       "        vertical-align: middle;\n",
       "    }\n",
       "\n",
       "    .dataframe tbody tr th {\n",
       "        vertical-align: top;\n",
       "    }\n",
       "\n",
       "    .dataframe thead th {\n",
       "        text-align: right;\n",
       "    }\n",
       "</style>\n",
       "<table border=\"1\" class=\"dataframe\">\n",
       "  <thead>\n",
       "    <tr style=\"text-align: right;\">\n",
       "      <th></th>\n",
       "      <th>mean_fit_time</th>\n",
       "      <th>std_fit_time</th>\n",
       "      <th>mean_score_time</th>\n",
       "      <th>std_score_time</th>\n",
       "      <th>param_C</th>\n",
       "      <th>param_gamma</th>\n",
       "      <th>param_kernel</th>\n",
       "      <th>params</th>\n",
       "      <th>split0_test_score</th>\n",
       "      <th>split1_test_score</th>\n",
       "      <th>...</th>\n",
       "      <th>mean_test_score</th>\n",
       "      <th>std_test_score</th>\n",
       "      <th>rank_test_score</th>\n",
       "      <th>split0_train_score</th>\n",
       "      <th>split1_train_score</th>\n",
       "      <th>split2_train_score</th>\n",
       "      <th>split3_train_score</th>\n",
       "      <th>split4_train_score</th>\n",
       "      <th>mean_train_score</th>\n",
       "      <th>std_train_score</th>\n",
       "    </tr>\n",
       "  </thead>\n",
       "  <tbody>\n",
       "    <tr>\n",
       "      <th>0</th>\n",
       "      <td>0.967020</td>\n",
       "      <td>0.244946</td>\n",
       "      <td>0.002398</td>\n",
       "      <td>4.900183e-04</td>\n",
       "      <td>1</td>\n",
       "      <td>0.0001</td>\n",
       "      <td>linear</td>\n",
       "      <td>{'C': 1, 'gamma': 0.0001, 'kernel': 'linear'}</td>\n",
       "      <td>0.628788</td>\n",
       "      <td>0.627848</td>\n",
       "      <td>...</td>\n",
       "      <td>0.638804</td>\n",
       "      <td>0.014781</td>\n",
       "      <td>36</td>\n",
       "      <td>0.637516</td>\n",
       "      <td>0.642179</td>\n",
       "      <td>0.637112</td>\n",
       "      <td>0.643671</td>\n",
       "      <td>0.630380</td>\n",
       "      <td>0.638171</td>\n",
       "      <td>0.004660</td>\n",
       "    </tr>\n",
       "    <tr>\n",
       "      <th>1</th>\n",
       "      <td>0.139132</td>\n",
       "      <td>0.005479</td>\n",
       "      <td>0.026591</td>\n",
       "      <td>5.004542e-04</td>\n",
       "      <td>1</td>\n",
       "      <td>0.0001</td>\n",
       "      <td>rbf</td>\n",
       "      <td>{'C': 1, 'gamma': 0.0001, 'kernel': 'rbf'}</td>\n",
       "      <td>0.696970</td>\n",
       "      <td>0.716456</td>\n",
       "      <td>...</td>\n",
       "      <td>0.696555</td>\n",
       "      <td>0.011936</td>\n",
       "      <td>4</td>\n",
       "      <td>0.975919</td>\n",
       "      <td>0.970868</td>\n",
       "      <td>0.975934</td>\n",
       "      <td>0.975316</td>\n",
       "      <td>0.980380</td>\n",
       "      <td>0.975683</td>\n",
       "      <td>0.003017</td>\n",
       "    </tr>\n",
       "    <tr>\n",
       "      <th>2</th>\n",
       "      <td>0.889459</td>\n",
       "      <td>0.215998</td>\n",
       "      <td>0.002798</td>\n",
       "      <td>3.977099e-04</td>\n",
       "      <td>1</td>\n",
       "      <td>0.001</td>\n",
       "      <td>linear</td>\n",
       "      <td>{'C': 1, 'gamma': 0.001, 'kernel': 'linear'}</td>\n",
       "      <td>0.628788</td>\n",
       "      <td>0.627848</td>\n",
       "      <td>...</td>\n",
       "      <td>0.638804</td>\n",
       "      <td>0.014781</td>\n",
       "      <td>36</td>\n",
       "      <td>0.637516</td>\n",
       "      <td>0.642179</td>\n",
       "      <td>0.637112</td>\n",
       "      <td>0.643671</td>\n",
       "      <td>0.630380</td>\n",
       "      <td>0.638171</td>\n",
       "      <td>0.004660</td>\n",
       "    </tr>\n",
       "    <tr>\n",
       "      <th>3</th>\n",
       "      <td>0.136699</td>\n",
       "      <td>0.002362</td>\n",
       "      <td>0.026777</td>\n",
       "      <td>3.963806e-04</td>\n",
       "      <td>1</td>\n",
       "      <td>0.001</td>\n",
       "      <td>rbf</td>\n",
       "      <td>{'C': 1, 'gamma': 0.001, 'kernel': 'rbf'}</td>\n",
       "      <td>0.676768</td>\n",
       "      <td>0.686076</td>\n",
       "      <td>...</td>\n",
       "      <td>0.682371</td>\n",
       "      <td>0.005458</td>\n",
       "      <td>5</td>\n",
       "      <td>0.993663</td>\n",
       "      <td>0.991767</td>\n",
       "      <td>0.993667</td>\n",
       "      <td>0.993671</td>\n",
       "      <td>0.994937</td>\n",
       "      <td>0.993541</td>\n",
       "      <td>0.001014</td>\n",
       "    </tr>\n",
       "    <tr>\n",
       "      <th>4</th>\n",
       "      <td>0.896195</td>\n",
       "      <td>0.227318</td>\n",
       "      <td>0.001999</td>\n",
       "      <td>8.869684e-07</td>\n",
       "      <td>1</td>\n",
       "      <td>0.01</td>\n",
       "      <td>linear</td>\n",
       "      <td>{'C': 1, 'gamma': 0.01, 'kernel': 'linear'}</td>\n",
       "      <td>0.628788</td>\n",
       "      <td>0.627848</td>\n",
       "      <td>...</td>\n",
       "      <td>0.638804</td>\n",
       "      <td>0.014781</td>\n",
       "      <td>36</td>\n",
       "      <td>0.637516</td>\n",
       "      <td>0.642179</td>\n",
       "      <td>0.637112</td>\n",
       "      <td>0.643671</td>\n",
       "      <td>0.630380</td>\n",
       "      <td>0.638171</td>\n",
       "      <td>0.004660</td>\n",
       "    </tr>\n",
       "  </tbody>\n",
       "</table>\n",
       "<p>5 rows × 23 columns</p>\n",
       "</div>"
      ],
      "text/plain": [
       "   mean_fit_time  std_fit_time  mean_score_time  std_score_time param_C  \\\n",
       "0       0.967020      0.244946         0.002398    4.900183e-04       1   \n",
       "1       0.139132      0.005479         0.026591    5.004542e-04       1   \n",
       "2       0.889459      0.215998         0.002798    3.977099e-04       1   \n",
       "3       0.136699      0.002362         0.026777    3.963806e-04       1   \n",
       "4       0.896195      0.227318         0.001999    8.869684e-07       1   \n",
       "\n",
       "  param_gamma param_kernel                                         params  \\\n",
       "0      0.0001       linear  {'C': 1, 'gamma': 0.0001, 'kernel': 'linear'}   \n",
       "1      0.0001          rbf     {'C': 1, 'gamma': 0.0001, 'kernel': 'rbf'}   \n",
       "2       0.001       linear   {'C': 1, 'gamma': 0.001, 'kernel': 'linear'}   \n",
       "3       0.001          rbf      {'C': 1, 'gamma': 0.001, 'kernel': 'rbf'}   \n",
       "4        0.01       linear    {'C': 1, 'gamma': 0.01, 'kernel': 'linear'}   \n",
       "\n",
       "   split0_test_score  split1_test_score       ...         mean_test_score  \\\n",
       "0           0.628788           0.627848       ...                0.638804   \n",
       "1           0.696970           0.716456       ...                0.696555   \n",
       "2           0.628788           0.627848       ...                0.638804   \n",
       "3           0.676768           0.686076       ...                0.682371   \n",
       "4           0.628788           0.627848       ...                0.638804   \n",
       "\n",
       "   std_test_score  rank_test_score  split0_train_score  split1_train_score  \\\n",
       "0        0.014781               36            0.637516            0.642179   \n",
       "1        0.011936                4            0.975919            0.970868   \n",
       "2        0.014781               36            0.637516            0.642179   \n",
       "3        0.005458                5            0.993663            0.991767   \n",
       "4        0.014781               36            0.637516            0.642179   \n",
       "\n",
       "   split2_train_score  split3_train_score  split4_train_score  \\\n",
       "0            0.637112            0.643671            0.630380   \n",
       "1            0.975934            0.975316            0.980380   \n",
       "2            0.637112            0.643671            0.630380   \n",
       "3            0.993667            0.993671            0.994937   \n",
       "4            0.637112            0.643671            0.630380   \n",
       "\n",
       "   mean_train_score  std_train_score  \n",
       "0          0.638171         0.004660  \n",
       "1          0.975683         0.003017  \n",
       "2          0.638171         0.004660  \n",
       "3          0.993541         0.001014  \n",
       "4          0.638171         0.004660  \n",
       "\n",
       "[5 rows x 23 columns]"
      ]
     },
     "execution_count": 15,
     "metadata": {},
     "output_type": "execute_result"
    }
   ],
   "source": [
    "# Toda la informacion del entrenamiento esta en cv_results_\n",
    "scores = clf.cv_results_\n",
    "#Veamosla ...\n",
    "pd.DataFrame.from_dict(scores).head()"
   ]
  },
  {
   "cell_type": "code",
   "execution_count": 16,
   "metadata": {},
   "outputs": [
    {
     "name": "stdout",
     "output_type": "stream",
     "text": [
      "0.7225501770956316\n"
     ]
    }
   ],
   "source": [
    "print(clf.score(x_1_test,y_1_test.ravel()))"
   ]
  },
  {
   "cell_type": "code",
   "execution_count": 17,
   "metadata": {},
   "outputs": [
    {
     "name": "stdout",
     "output_type": "stream",
     "text": [
      "[0 0 0 0 0 0 0 0 0 0 0 0 0 0 0 0 0 0 0 0 0 0 0 0 0 0 1 0 0 0 0 0 1 0 0 0 0\n",
      " 0 0 0 0 0 0 0 1 0 1 0 0 0 1 0 0 0 0 0 1 1 0 0 0 0 0 0 0 0 0 0 0 0 0 0 1 0\n",
      " 0 0 0 1 0 0 0 0 0 0 0 0 0 0 1 0 0 1 0 0 1 0 0 0 0 0 0 0 0 1 0 0 0 0 0 0 1\n",
      " 0 0 0 0 0 0 0 1 1 0 0 0 1 0 0 0 0 0 0 0 0 0 0 0 0 0 0 0 1 0 0 0 0 0 1 0 0\n",
      " 1 0 0 1 0 0 0 0 0 0 0 0 1 0 0 0 0 0 1 0 0 0 0 1 0 0 0 0 0 0 1 0 0 1 0 0 0\n",
      " 0 0 0 0 0 1 1 0 0 0 0 0 0 0 0 0 0 0 0 0 1 0 0 0 1 0 0 0 0 1 0 0 0 0 0 1 0\n",
      " 0 0 0 0 0 0 0 0 1 0 1 0 0 0 0 0 1 0 0 0 0 0 1 0 1 0 1 1 1 0 0 0 0 0 0 0 1\n",
      " 0 0 1 0 0 0 1 0 0 0 0 0 0 1 0 0 1 1 0 0 0 0 0 0 0 0 0 1 0 0 0 0 1 0 0 0 0\n",
      " 0 0 0 0 1 0 0 0 0 0 1 0 1 0 0 0 1 0 0 0 0 0 1 0 0 0 1 0 0 0 0 0 0 0 0 0 0\n",
      " 0 0 0 1 0 0 0 0 0 0 0 0 0 0 0 1 1 0 1 0 0 1 0 0 0 0 1 0 0 1 0 0 0 0 0 0 0\n",
      " 0 0 1 0 0 0 0 1 0 0 0 0 0 0 0 0 0 0 0 0 0 0 0 1 0 0 0 0 0 0 0 0 0 0 0 0 1\n",
      " 0 0 0 0 0 1 0 0 0 0 0 0 0 0 0 1 0 0 0 0 0 0 1 1 0 0 0 1 0 0 1 1 0 0 1 0 0\n",
      " 0 0 0 0 0 0 0 0 1 0 0 0 0 0 0 1 0 0 1 1 0 0 1 1 1 0 1 0 0 1 0 0 0 0 0 0 0\n",
      " 0 1 0 1 0 0 0 0 0 0 0 0 0 0 0 1 0 1 0 1 0 1 0 0 0 0 0 0 0 1 1 0 0 1 0 0 0\n",
      " 0 0 0 0 1 0 0 0 0 0 1 0 0 0 1 0 0 0 0 0 0 0 0 0 0 0 0 0 0 1 0 0 0 0 0 0 1\n",
      " 0 0 1 1 0 0 1 0 1 1 0 0 0 0 0 0 1 0 0 0 0 1 0 0 0 1 0 0 1 0 0 0 0 0 0 0 0\n",
      " 0 0 0 0 1 1 1 0 0 0 0 0 1 0 0 0 0 1 0 0 0 0 0 1 0 1 0 0 0 0 0 0 0 0 0 0 0\n",
      " 0 0 0 0 1 0 0 0 0 0 1 0 0 0 0 0 1 0 0 0 0 0 0 1 0 1 0 0 0 1 0 0 0 0 0 1 0\n",
      " 0 0 0 0 0 0 0 1 0 0 0 0 1 0 1 0 0 0 0 0 0 0 0 0 1 0 0 0 0 0 0 0 0 0 0 0 0\n",
      " 0 0 0 0 0 0 0 0 1 0 1 0 0 1 0 0 0 0 0 0 0 0 0 0 0 1 0 0 1 0 0 0 1 0 0 0 1\n",
      " 0 0 0 0 0 1 0 0 0 0 0 0 0 0 0 0 1 0 0 0 0 0 0 0 0 1 0 0 1 0 1 1 1 0 0 0 0\n",
      " 1 0 0 0 0 1 0 0 0 0 0 0 0 1 0 0 0 0 0 0 1 0 0 0 0 0 1 0 0 0 0 0 0 0 0 0 1\n",
      " 0 0 0 0 0 0 0 0 0 0 0 0 0 0 0 0 0 0 0 0 0 0 1 0 0 0 1 0 0 0 0 0 0]\n"
     ]
    }
   ],
   "source": [
    "# Prediction sobre las muestras de test\n",
    "y_1_pred = clf.predict(x_1_test)\n",
    "print(y_1_pred)"
   ]
  },
  {
   "cell_type": "code",
   "execution_count": 20,
   "metadata": {},
   "outputs": [
    {
     "name": "stdout",
     "output_type": "stream",
     "text": [
      "El accuracy es 0.7225501770956316\n"
     ]
    }
   ],
   "source": [
    "# Computo el accuracy (comparar ytest vs ypred)\n",
    "test_acc = accuracy_score(y_1_test, y_1_pred)\n",
    "print(\"El accuracy es \" + str(test_acc))"
   ]
  },
  {
   "cell_type": "markdown",
   "metadata": {},
   "source": [
    "KNN"
   ]
  },
  {
   "cell_type": "code",
   "execution_count": 21,
   "metadata": {},
   "outputs": [
    {
     "name": "stdout",
     "output_type": "stream",
     "text": [
      "El accuracy es 0.7154663518299882\n"
     ]
    }
   ],
   "source": [
    "neigh = KNeighborsClassifier(n_neighbors=2)\n",
    "neigh.fit(x_1_train, y_1_train)\n",
    "y_1_pred = neigh.predict(x_1_test)\n",
    "test_1_acc = accuracy_score(y_1_test, y_1_pred)\n",
    "print(\"El accuracy es \" + str(test_1_acc))"
   ]
  },
  {
   "cell_type": "code",
   "execution_count": 22,
   "metadata": {},
   "outputs": [
    {
     "name": "stdout",
     "output_type": "stream",
     "text": [
      "El AUC es = 0.7172397189428255\n"
     ]
    }
   ],
   "source": [
    "#compute and plot AUC\n",
    "yproba_1 = neigh.predict_proba(x_1_test)\n",
    "fpr_1, tpr_1, thresholds = roc_curve(y_1_test.astype('int'), yproba_1[:,1], drop_intermediate = False)\n",
    "auc_1 = metrics.auc(fpr_1, tpr_1)\n",
    "print(\"El AUC es = \" + str(auc_1))"
   ]
  },
  {
   "cell_type": "code",
   "execution_count": 23,
   "metadata": {},
   "outputs": [
    {
     "data": {
      "image/png": "[encoded data removed]",
      "text/plain": [
       "<Figure size 432x288 with 1 Axes>"
      ]
     },
     "metadata": {
      "needs_background": "light"
     },
     "output_type": "display_data"
    }
   ],
   "source": [
    "plt.plot(fpr_1, tpr_1, lw=2, alpha=0.7 , label = 'ROC curve', color = 'b')\n",
    "plt.plot([0, 1], [0, 1], linestyle='--', lw=1, color='r',label='Luck', alpha=.8)\n",
    "plt.xlabel('False Positive Rate')\n",
    "plt.ylabel('True Positive Rate')\n",
    "plt.grid(False)\n",
    "plt.legend(loc=\"lower right\")\n",
    "plt.title('ROC curve with KNN')\n",
    "plt.show()"
   ]
  },
  {
   "cell_type": "code",
   "execution_count": 24,
   "metadata": {},
   "outputs": [
    {
     "data": {
      "image/png": "[encoded data removed]",
      "text/plain": [
       "<Figure size 360x360 with 2 Axes>"
      ]
     },
     "metadata": {
      "needs_background": "light"
     },
     "output_type": "display_data"
    }
   ],
   "source": [
    "cm_1 = confusion_matrix(y_1_test, y_1_pred)\n",
    "df_cm_1 = pd.DataFrame(cm_1, index = [i for i in np.unique(Y_1)],columns = [i for i in np.unique(Y_1)])\n",
    "plt.figure(figsize = (5,5))\n",
    "sns.heatmap(df_cm_1, annot=True, cmap=\"YlGnBu\")\n",
    "plt.show()"
   ]
  },
  {
   "cell_type": "markdown",
   "metadata": {},
   "source": [
    "Se puede observar que su performance no es muy buena ya que la forma en la que se distribuyen los estatales y privados fue estudiada en el analisis exploratorio y era muy dificil visualmente de separar."
   ]
  },
  {
   "cell_type": "code",
   "execution_count": 25,
   "metadata": {},
   "outputs": [],
   "source": [
    "#traducimos cada uno de los valores 0 y 1 a lo que representan realmente\n",
    "esteduc_df['sector'] = esteduc_df['sector'].map({0 : 'Estatal' ,1 : 'Privado'})"
   ]
  },
  {
   "cell_type": "code",
   "execution_count": 26,
   "metadata": {},
   "outputs": [
    {
     "data": {
      "image/png": "[encoded data removed]",
      "text/plain": [
       "<Figure size 576x576 with 1 Axes>"
      ]
     },
     "metadata": {
      "needs_background": "light"
     },
     "output_type": "display_data"
    }
   ],
   "source": [
    "# Divido mi DataSet por Establecimientos Estatales y Privados\n",
    "esteduc_estatal_df = esteduc_df[ esteduc_df['sector'] == 'Estatal' ]\n",
    "esteduc_privado_df = esteduc_df[ esteduc_df['sector'] == 'Privado' ]\n",
    "#Impresion del Grafico\n",
    "plt.figure(figsize=(8,8))\n",
    "sns.scatterplot( x= esteduc_estatal_df.point_x.values , y= esteduc_estatal_df.point_y.values, s=30, color=\"y\")\n",
    "sns.scatterplot( x= esteduc_privado_df.point_x.values , y= esteduc_privado_df.point_y.values , s=30, color=\"b\")\n",
    "plt.title(\"Mapa con los establecimientos estatales\")\n",
    "plt.xlabel(\"valores de Coordenada X\")\n",
    "plt.ylabel(\"valores de Coordenada Y\")\n",
    "plt.show()"
   ]
  },
  {
   "cell_type": "markdown",
   "metadata": {},
   "source": [
    "NUEVA CLASIFICACIÓN\n",
    "El nuevo objetivo será predecir la comuna en la cual esta situada el Establecimiento establecimiento segun coordenadas x e y. Trabajaremos con modelos de SVM y KNN para luego medir su performance y elegir el mejor."
   ]
  },
  {
   "cell_type": "code",
   "execution_count": 27,
   "metadata": {},
   "outputs": [
    {
     "name": "stdout",
     "output_type": "stream",
     "text": [
      "Features: ['point_x', 'point_y']\n",
      "Target: ['comuna']\n"
     ]
    }
   ],
   "source": [
    "# Nombre de columnas\n",
    "column_names = ['point_x', 'point_y']\n",
    "# Columna target\n",
    "targets_name = ['comuna']\n",
    "# Nombres de columnas que no estan en el target\n",
    "features_names = [i_c for i_c in column_names if i_c not in targets_name]\n",
    "print('Features:',features_names)\n",
    "print('Target:',targets_name)"
   ]
  },
  {
   "cell_type": "code",
   "execution_count": 28,
   "metadata": {},
   "outputs": [
    {
     "name": "stdout",
     "output_type": "stream",
     "text": [
      "(2821, 1)\n",
      "(2821, 2)\n"
     ]
    }
   ],
   "source": [
    "# 1) Separamos lo que son las features del target.\n",
    "features = esteduc_df[features_names]           \n",
    "target = esteduc_df[targets_name]\n",
    "# Guardamos feature matrix en \"X\"\n",
    "X = features.values\n",
    "# Guardamos target vector in \"Y\"\n",
    "Y = target.values \n",
    "print(Y.shape)\n",
    "print(X.shape)"
   ]
  },
  {
   "cell_type": "code",
   "execution_count": 29,
   "metadata": {},
   "outputs": [
    {
     "name": "stdout",
     "output_type": "stream",
     "text": [
      "Response variable after encoding: [ 7  6 13 ...  0  9  7]\n"
     ]
    },
    {
     "data": {
      "text/html": [
       "<div>\n",
       "<style scoped>\n",
       "    .dataframe tbody tr th:only-of-type {\n",
       "        vertical-align: middle;\n",
       "    }\n",
       "\n",
       "    .dataframe tbody tr th {\n",
       "        vertical-align: top;\n",
       "    }\n",
       "\n",
       "    .dataframe thead th {\n",
       "        text-align: right;\n",
       "    }\n",
       "</style>\n",
       "<table border=\"1\" class=\"dataframe\">\n",
       "  <thead>\n",
       "    <tr style=\"text-align: right;\">\n",
       "      <th></th>\n",
       "      <th>cui</th>\n",
       "      <th>cueanexo</th>\n",
       "      <th>cue</th>\n",
       "      <th>anexo</th>\n",
       "      <th>sector</th>\n",
       "      <th>dom_edific</th>\n",
       "      <th>dom_establ</th>\n",
       "      <th>nombre_est</th>\n",
       "      <th>nombre_abr</th>\n",
       "      <th>telefono</th>\n",
       "      <th>...</th>\n",
       "      <th>depfun</th>\n",
       "      <th>depfun_otr</th>\n",
       "      <th>de</th>\n",
       "      <th>comuna</th>\n",
       "      <th>barrio</th>\n",
       "      <th>area_progr</th>\n",
       "      <th>estado</th>\n",
       "      <th>point_x</th>\n",
       "      <th>point_y</th>\n",
       "      <th>Nivel</th>\n",
       "    </tr>\n",
       "  </thead>\n",
       "  <tbody>\n",
       "    <tr>\n",
       "      <th>2868</th>\n",
       "      <td>200795</td>\n",
       "      <td>20245849</td>\n",
       "      <td>202458</td>\n",
       "      <td>49</td>\n",
       "      <td>Estatal</td>\n",
       "      <td>Manuel Porcel de Peralta 1437</td>\n",
       "      <td>Manuel Porcel de Peralta 1437</td>\n",
       "      <td>Primera Infancia Espacio EEM N°2/17°</td>\n",
       "      <td>PI EEM 02/17</td>\n",
       "      <td>S/D</td>\n",
       "      <td>...</td>\n",
       "      <td>Subsecretaría de Coordinación Pedagógica y Equ...</td>\n",
       "      <td>1</td>\n",
       "      <td>17.0</td>\n",
       "      <td>9</td>\n",
       "      <td>VILLA REAL</td>\n",
       "      <td>11 - HOSP VELEZ SARSFIELD</td>\n",
       "      <td>1</td>\n",
       "      <td>93922.057628</td>\n",
       "      <td>100884.606275</td>\n",
       "      <td>Otros Servicios Educativos de la modalidad Común</td>\n",
       "    </tr>\n",
       "    <tr>\n",
       "      <th>2869</th>\n",
       "      <td>200223</td>\n",
       "      <td>20310300</td>\n",
       "      <td>203103</td>\n",
       "      <td>0</td>\n",
       "      <td>Estatal</td>\n",
       "      <td>Avda. Suárez 1851</td>\n",
       "      <td>Avda. Suárez 1851</td>\n",
       "      <td>Centro Educativo Complementario de Natación N° 05</td>\n",
       "      <td>CEC Natación 05</td>\n",
       "      <td>S/N</td>\n",
       "      <td>...</td>\n",
       "      <td>Dirección de Educación Primaria</td>\n",
       "      <td>1</td>\n",
       "      <td>5.0</td>\n",
       "      <td>3</td>\n",
       "      <td>BARRACAS</td>\n",
       "      <td>02 - HOSP ARGERICH</td>\n",
       "      <td>2</td>\n",
       "      <td>107903.580104</td>\n",
       "      <td>98882.800382</td>\n",
       "      <td>Otros Servicios Educativos de la modalidad Común</td>\n",
       "    </tr>\n",
       "    <tr>\n",
       "      <th>2870</th>\n",
       "      <td>200547</td>\n",
       "      <td>20274213</td>\n",
       "      <td>202742</td>\n",
       "      <td>13</td>\n",
       "      <td>Estatal</td>\n",
       "      <td>Avda. del Libertador 8209</td>\n",
       "      <td>Avda. del Libertador 8151</td>\n",
       "      <td>Escuela de Maestros Centro Cultural De La Memoria</td>\n",
       "      <td>EdeM CCDLM</td>\n",
       "      <td>4772-4028/4039</td>\n",
       "      <td>...</td>\n",
       "      <td>Dirección General Escuela de Maestros</td>\n",
       "      <td>1</td>\n",
       "      <td>10.0</td>\n",
       "      <td>12</td>\n",
       "      <td>NUÑEZ</td>\n",
       "      <td>07 - HOSP PIROVANO</td>\n",
       "      <td>1</td>\n",
       "      <td>99873.530888</td>\n",
       "      <td>109992.000351</td>\n",
       "      <td>Superior No Universitario Común - Otros Servic...</td>\n",
       "    </tr>\n",
       "    <tr>\n",
       "      <th>2871</th>\n",
       "      <td>202670</td>\n",
       "      <td>20310400</td>\n",
       "      <td>203104</td>\n",
       "      <td>0</td>\n",
       "      <td>Estatal</td>\n",
       "      <td>San José 255</td>\n",
       "      <td>San José 255</td>\n",
       "      <td>Centro de Formación Profesional - Fundación Ex...</td>\n",
       "      <td>CFP F.Excelencia</td>\n",
       "      <td>4381-5937</td>\n",
       "      <td>...</td>\n",
       "      <td>Gerencia Operativa de Formación Profesional</td>\n",
       "      <td>1</td>\n",
       "      <td>3.0</td>\n",
       "      <td>0</td>\n",
       "      <td>MONTSERRAT</td>\n",
       "      <td>08 - HOSP RAMOS MEJIA</td>\n",
       "      <td>1</td>\n",
       "      <td>106997.277926</td>\n",
       "      <td>101968.493193</td>\n",
       "      <td>Otros Servicios Educativos de la modalidad Com...</td>\n",
       "    </tr>\n",
       "    <tr>\n",
       "      <th>2872</th>\n",
       "      <td>202134</td>\n",
       "      <td>20308600</td>\n",
       "      <td>203086</td>\n",
       "      <td>0</td>\n",
       "      <td>Estatal</td>\n",
       "      <td>Villa 31 Parcela 1P Mza. 162 Sec. 15 Circ. 19</td>\n",
       "      <td>Villa 31 Parcela 1P Mza. 162 Sec. 15 Circ. 19</td>\n",
       "      <td>Jardín de Infantes Integral N° 10/01°</td>\n",
       "      <td>JII 10/01</td>\n",
       "      <td>38610341</td>\n",
       "      <td>...</td>\n",
       "      <td>Dirección de Educación Inicial</td>\n",
       "      <td>1</td>\n",
       "      <td>1.0</td>\n",
       "      <td>0</td>\n",
       "      <td>RETIRO</td>\n",
       "      <td>04 - HOSP FERNANDEZ</td>\n",
       "      <td>1</td>\n",
       "      <td>106667.070328</td>\n",
       "      <td>105602.861029</td>\n",
       "      <td>Inicial Común</td>\n",
       "    </tr>\n",
       "    <tr>\n",
       "      <th>2873</th>\n",
       "      <td>200332</td>\n",
       "      <td>20308200</td>\n",
       "      <td>203082</td>\n",
       "      <td>0</td>\n",
       "      <td>Estatal</td>\n",
       "      <td>Venezuela 3259</td>\n",
       "      <td>Venezuela 3259</td>\n",
       "      <td>CENOF Centro Rincón de Venezuela</td>\n",
       "      <td>CENOF Rincón de Venezuela</td>\n",
       "      <td>4861-1869</td>\n",
       "      <td>...</td>\n",
       "      <td>Gerencia Operativa de Educación para el Desarr...</td>\n",
       "      <td>1</td>\n",
       "      <td>6.0</td>\n",
       "      <td>2</td>\n",
       "      <td>BALVANERA</td>\n",
       "      <td>08 - HOSP RAMOS MEJIA</td>\n",
       "      <td>2</td>\n",
       "      <td>104647.290490</td>\n",
       "      <td>101463.155880</td>\n",
       "      <td>Otros Servicios Educativos de la modalidad de ...</td>\n",
       "    </tr>\n",
       "    <tr>\n",
       "      <th>2874</th>\n",
       "      <td>202245</td>\n",
       "      <td>20308300</td>\n",
       "      <td>203083</td>\n",
       "      <td>0</td>\n",
       "      <td>Estatal</td>\n",
       "      <td>Avda. Juan de Garay 2900</td>\n",
       "      <td>Avda. Juan de Garay 2900</td>\n",
       "      <td>CENOF Centro Seis Esquinas</td>\n",
       "      <td>CENOF 6 Esquinas</td>\n",
       "      <td>4323-9350</td>\n",
       "      <td>...</td>\n",
       "      <td>Gerencia Operativa de Educación para el Desarr...</td>\n",
       "      <td>1</td>\n",
       "      <td>6.0</td>\n",
       "      <td>3</td>\n",
       "      <td>PARQUE PATRICIOS</td>\n",
       "      <td>05 - HOSP PENNA</td>\n",
       "      <td>2</td>\n",
       "      <td>105256.085374</td>\n",
       "      <td>100046.041447</td>\n",
       "      <td>Otros Servicios Educativos de la modalidad de ...</td>\n",
       "    </tr>\n",
       "    <tr>\n",
       "      <th>2875</th>\n",
       "      <td>202657</td>\n",
       "      <td>20308500</td>\n",
       "      <td>203085</td>\n",
       "      <td>0</td>\n",
       "      <td>Estatal</td>\n",
       "      <td>Villa 31 Bis Mza. 109 Playón Este</td>\n",
       "      <td>Villa 31 Bis Mza. 109 Playón Este B° San Martín</td>\n",
       "      <td>CENOF Centro Retiro CEDEL</td>\n",
       "      <td>CENOF CEDEL</td>\n",
       "      <td>5030-9490 int.11</td>\n",
       "      <td>...</td>\n",
       "      <td>Gerencia Operativa de Educación para el Desarr...</td>\n",
       "      <td>1</td>\n",
       "      <td>1.0</td>\n",
       "      <td>0</td>\n",
       "      <td>RETIRO</td>\n",
       "      <td>04 - HOSP FERNANDEZ</td>\n",
       "      <td>2</td>\n",
       "      <td>107746.306620</td>\n",
       "      <td>104891.331613</td>\n",
       "      <td>Otros Servicios Educativos de la modalidad de ...</td>\n",
       "    </tr>\n",
       "    <tr>\n",
       "      <th>2876</th>\n",
       "      <td>201564</td>\n",
       "      <td>20244301</td>\n",
       "      <td>202443</td>\n",
       "      <td>1</td>\n",
       "      <td>Privado</td>\n",
       "      <td>Cnel. Ramón L. Falcón 4080</td>\n",
       "      <td>Cnel. Ramón L. Falcón 4080</td>\n",
       "      <td>Inst. Superior de Formación Integral (ISFI)</td>\n",
       "      <td>I.S. ISFI</td>\n",
       "      <td>S/D</td>\n",
       "      <td>...</td>\n",
       "      <td>Dirección General de Educación de Gestión Privada</td>\n",
       "      <td>1</td>\n",
       "      <td>11.0</td>\n",
       "      <td>9</td>\n",
       "      <td>VELEZ SARSFIELD</td>\n",
       "      <td>06 - HOSP PIÑERO</td>\n",
       "      <td>1</td>\n",
       "      <td>98047.072088</td>\n",
       "      <td>99320.432796</td>\n",
       "      <td>Superior No Universitario Común - Otros Servic...</td>\n",
       "    </tr>\n",
       "    <tr>\n",
       "      <th>2877</th>\n",
       "      <td>202687</td>\n",
       "      <td>20312700</td>\n",
       "      <td>203127</td>\n",
       "      <td>0</td>\n",
       "      <td>Estatal</td>\n",
       "      <td>Zuviría 6590</td>\n",
       "      <td>Zuviría 6590</td>\n",
       "      <td>Esc. Primaria N° 24</td>\n",
       "      <td>EPjc 24</td>\n",
       "      <td>S/D</td>\n",
       "      <td>...</td>\n",
       "      <td>Dirección de Educación Primaria</td>\n",
       "      <td>1</td>\n",
       "      <td>20.0</td>\n",
       "      <td>7</td>\n",
       "      <td>VILLA LUGANO</td>\n",
       "      <td>09 - HOSP SANTOJANNI</td>\n",
       "      <td>1</td>\n",
       "      <td>97272.012176</td>\n",
       "      <td>94961.940140</td>\n",
       "      <td>Primario Común</td>\n",
       "    </tr>\n",
       "  </tbody>\n",
       "</table>\n",
       "<p>10 rows × 27 columns</p>\n",
       "</div>"
      ],
      "text/plain": [
       "         cui  cueanexo     cue  anexo   sector  \\\n",
       "2868  200795  20245849  202458     49  Estatal   \n",
       "2869  200223  20310300  203103      0  Estatal   \n",
       "2870  200547  20274213  202742     13  Estatal   \n",
       "2871  202670  20310400  203104      0  Estatal   \n",
       "2872  202134  20308600  203086      0  Estatal   \n",
       "2873  200332  20308200  203082      0  Estatal   \n",
       "2874  202245  20308300  203083      0  Estatal   \n",
       "2875  202657  20308500  203085      0  Estatal   \n",
       "2876  201564  20244301  202443      1  Privado   \n",
       "2877  202687  20312700  203127      0  Estatal   \n",
       "\n",
       "                                         dom_edific  \\\n",
       "2868                  Manuel Porcel de Peralta 1437   \n",
       "2869                              Avda. Suárez 1851   \n",
       "2870                      Avda. del Libertador 8209   \n",
       "2871                                   San José 255   \n",
       "2872  Villa 31 Parcela 1P Mza. 162 Sec. 15 Circ. 19   \n",
       "2873                                 Venezuela 3259   \n",
       "2874                       Avda. Juan de Garay 2900   \n",
       "2875              Villa 31 Bis Mza. 109 Playón Este   \n",
       "2876                     Cnel. Ramón L. Falcón 4080   \n",
       "2877                                   Zuviría 6590   \n",
       "\n",
       "                                           dom_establ  \\\n",
       "2868                    Manuel Porcel de Peralta 1437   \n",
       "2869                                Avda. Suárez 1851   \n",
       "2870                        Avda. del Libertador 8151   \n",
       "2871                                     San José 255   \n",
       "2872    Villa 31 Parcela 1P Mza. 162 Sec. 15 Circ. 19   \n",
       "2873                                   Venezuela 3259   \n",
       "2874                         Avda. Juan de Garay 2900   \n",
       "2875  Villa 31 Bis Mza. 109 Playón Este B° San Martín   \n",
       "2876                       Cnel. Ramón L. Falcón 4080   \n",
       "2877                                     Zuviría 6590   \n",
       "\n",
       "                                             nombre_est  \\\n",
       "2868               Primera Infancia Espacio EEM N°2/17°   \n",
       "2869  Centro Educativo Complementario de Natación N° 05   \n",
       "2870  Escuela de Maestros Centro Cultural De La Memoria   \n",
       "2871  Centro de Formación Profesional - Fundación Ex...   \n",
       "2872              Jardín de Infantes Integral N° 10/01°   \n",
       "2873                   CENOF Centro Rincón de Venezuela   \n",
       "2874                         CENOF Centro Seis Esquinas   \n",
       "2875                          CENOF Centro Retiro CEDEL   \n",
       "2876        Inst. Superior de Formación Integral (ISFI)   \n",
       "2877                                Esc. Primaria N° 24   \n",
       "\n",
       "                     nombre_abr          telefono  \\\n",
       "2868               PI EEM 02/17               S/D   \n",
       "2869            CEC Natación 05               S/N   \n",
       "2870                 EdeM CCDLM    4772-4028/4039   \n",
       "2871           CFP F.Excelencia         4381-5937   \n",
       "2872                  JII 10/01          38610341   \n",
       "2873  CENOF Rincón de Venezuela         4861-1869   \n",
       "2874           CENOF 6 Esquinas         4323-9350   \n",
       "2875                CENOF CEDEL  5030-9490 int.11   \n",
       "2876                  I.S. ISFI               S/D   \n",
       "2877                    EPjc 24               S/D   \n",
       "\n",
       "                            ...                          \\\n",
       "2868                        ...                           \n",
       "2869                        ...                           \n",
       "2870                        ...                           \n",
       "2871                        ...                           \n",
       "2872                        ...                           \n",
       "2873                        ...                           \n",
       "2874                        ...                           \n",
       "2875                        ...                           \n",
       "2876                        ...                           \n",
       "2877                        ...                           \n",
       "\n",
       "                                                 depfun depfun_otr    de  \\\n",
       "2868  Subsecretaría de Coordinación Pedagógica y Equ...          1  17.0   \n",
       "2869                    Dirección de Educación Primaria          1   5.0   \n",
       "2870              Dirección General Escuela de Maestros          1  10.0   \n",
       "2871        Gerencia Operativa de Formación Profesional          1   3.0   \n",
       "2872                     Dirección de Educación Inicial          1   1.0   \n",
       "2873  Gerencia Operativa de Educación para el Desarr...          1   6.0   \n",
       "2874  Gerencia Operativa de Educación para el Desarr...          1   6.0   \n",
       "2875  Gerencia Operativa de Educación para el Desarr...          1   1.0   \n",
       "2876  Dirección General de Educación de Gestión Privada          1  11.0   \n",
       "2877                    Dirección de Educación Primaria          1  20.0   \n",
       "\n",
       "     comuna            barrio                 area_progr estado  \\\n",
       "2868      9        VILLA REAL  11 - HOSP VELEZ SARSFIELD      1   \n",
       "2869      3          BARRACAS         02 - HOSP ARGERICH      2   \n",
       "2870     12             NUÑEZ         07 - HOSP PIROVANO      1   \n",
       "2871      0        MONTSERRAT      08 - HOSP RAMOS MEJIA      1   \n",
       "2872      0            RETIRO        04 - HOSP FERNANDEZ      1   \n",
       "2873      2         BALVANERA      08 - HOSP RAMOS MEJIA      2   \n",
       "2874      3  PARQUE PATRICIOS            05 - HOSP PENNA      2   \n",
       "2875      0            RETIRO        04 - HOSP FERNANDEZ      2   \n",
       "2876      9   VELEZ SARSFIELD           06 - HOSP PIÑERO      1   \n",
       "2877      7      VILLA LUGANO       09 - HOSP SANTOJANNI      1   \n",
       "\n",
       "            point_x        point_y  \\\n",
       "2868   93922.057628  100884.606275   \n",
       "2869  107903.580104   98882.800382   \n",
       "2870   99873.530888  109992.000351   \n",
       "2871  106997.277926  101968.493193   \n",
       "2872  106667.070328  105602.861029   \n",
       "2873  104647.290490  101463.155880   \n",
       "2874  105256.085374  100046.041447   \n",
       "2875  107746.306620  104891.331613   \n",
       "2876   98047.072088   99320.432796   \n",
       "2877   97272.012176   94961.940140   \n",
       "\n",
       "                                                  Nivel  \n",
       "2868   Otros Servicios Educativos de la modalidad Común  \n",
       "2869   Otros Servicios Educativos de la modalidad Común  \n",
       "2870  Superior No Universitario Común - Otros Servic...  \n",
       "2871  Otros Servicios Educativos de la modalidad Com...  \n",
       "2872                                      Inicial Común  \n",
       "2873  Otros Servicios Educativos de la modalidad de ...  \n",
       "2874  Otros Servicios Educativos de la modalidad de ...  \n",
       "2875  Otros Servicios Educativos de la modalidad de ...  \n",
       "2876  Superior No Universitario Común - Otros Servic...  \n",
       "2877                                     Primario Común  \n",
       "\n",
       "[10 rows x 27 columns]"
      ]
     },
     "execution_count": 29,
     "metadata": {},
     "output_type": "execute_result"
    }
   ],
   "source": [
    "#Label Encoder\n",
    "# Transformamos el label del target en formato numerico para poder procesarlo\n",
    "\n",
    "# Importamos preprocessing de la libreria scikit-learn (a.k.a. sklearn)\n",
    "from sklearn import preprocessing\n",
    "\n",
    "# 1 - Primero creo un objeto (con determinados argumentos) que llama a la funcion que deseo\n",
    "le = preprocessing.LabelEncoder()\n",
    "\n",
    "# 2 - AL objeto le aplico la funcion fit a los datos desados \n",
    "Y = le.fit_transform(Y.ravel()) #.ravel() para evitar el warning!\n",
    "\n",
    "# 3 - Agregamos la nueva columna a nuestro DataFrame\n",
    "esteduc_df['comuna'] = Y\n",
    "\n",
    "print('Response variable after encoding:',Y)\n",
    "esteduc_df.tail(10)"
   ]
  },
  {
   "cell_type": "code",
   "execution_count": 30,
   "metadata": {},
   "outputs": [
    {
     "name": "stdout",
     "output_type": "stream",
     "text": [
      "(1974, 2)\n",
      "(1974,)\n"
     ]
    }
   ],
   "source": [
    "#Split train & test\n",
    "# Separar train y test\n",
    "from sklearn.model_selection import train_test_split\n",
    "x_train, x_test, y_train, y_test = train_test_split(X, Y, test_size=0.3, random_state=1)\n",
    "#random_state: seed utilizada para poder replicar el experimento ya que la funcion tiene\n",
    "#componentes aleatorios\n",
    "#test_size: numero entre 0 y 1 e indicar la proporcion del dataset que va a ser test. \n",
    "print(x_train.shape)\n",
    "print(y_train.shape)"
   ]
  },
  {
   "cell_type": "code",
   "execution_count": 31,
   "metadata": {},
   "outputs": [
    {
     "data": {
      "text/plain": [
       "(1974, 2)"
      ]
     },
     "execution_count": 31,
     "metadata": {},
     "output_type": "execute_result"
    }
   ],
   "source": [
    "# observamos como queda la matriz de xtrain\n",
    "x_train.shape"
   ]
  },
  {
   "cell_type": "code",
   "execution_count": 32,
   "metadata": {},
   "outputs": [
    {
     "data": {
      "text/plain": [
       "(847, 2)"
      ]
     },
     "execution_count": 32,
     "metadata": {},
     "output_type": "execute_result"
    }
   ],
   "source": [
    "# observamos como queda la matriz de xtest\n",
    "x_test.shape"
   ]
  },
  {
   "cell_type": "markdown",
   "metadata": {},
   "source": [
    "SUPPORT VECTOR MACHINES\n",
    "Se realiza Grid Search y Cross Validation para seleccionar los hiperparámetros óptimos.\n",
    "\n",
    "Se trabaja con Kermels lineal y rbf (gausseano) y valor diferentes de \"C\" y \"gamma\"."
   ]
  },
  {
   "cell_type": "code",
   "execution_count": 33,
   "metadata": {},
   "outputs": [
    {
     "name": "stdout",
     "output_type": "stream",
     "text": [
      "Fitting 5 folds for each of 56 candidates, totalling 280 fits\n"
     ]
    },
    {
     "name": "stderr",
     "output_type": "stream",
     "text": [
      "[Parallel(n_jobs=1)]: Using backend SequentialBackend with 1 concurrent workers.\n",
      "[Parallel(n_jobs=1)]: Done 280 out of 280 | elapsed:  1.3min finished\n"
     ]
    },
    {
     "data": {
      "text/plain": [
       "GridSearchCV(cv=5, error_score='raise-deprecating',\n",
       "       estimator=SVC(C=1.0, cache_size=200, class_weight=None, coef0=0.0,\n",
       "  decision_function_shape='ovr', degree=3, gamma='auto_deprecated',\n",
       "  kernel='rbf', max_iter=-1, probability=False, random_state=None,\n",
       "  shrinking=True, tol=0.001, verbose=False),\n",
       "       fit_params=None, iid='warn', n_jobs=None,\n",
       "       param_grid={'kernel': ('linear', 'rbf'), 'C': [1, 10, 100, 1000], 'gamma': [0.0001, 0.001, 0.01, 0.1, 1, 10, 100]},\n",
       "       pre_dispatch='2*n_jobs', refit=True, return_train_score='warn',\n",
       "       scoring=None, verbose=1)"
      ]
     },
     "execution_count": 33,
     "metadata": {},
     "output_type": "execute_result"
    }
   ],
   "source": [
    "#Creamos el modelo Support Vector Classification (SVC)\n",
    "svc = svm.SVC()\n",
    "\n",
    "# Hyperparametros\n",
    "parameters = {'kernel':('linear', 'rbf'),\n",
    "              'C':[1, 10, 100, 1000],\n",
    "              'gamma':[0.0001,0.001, 0.01, 0.1,1, 10,100]}\n",
    "# \n",
    "clf = GridSearchCV(svc, # modelo\n",
    "                   param_grid = parameters, # Hyperparametros\n",
    "                   refit = True, # refit nos devuelve el modelo con los mejores parametros encontrados \n",
    "                   cv = 5, # cv indica la cantidad de folds\n",
    "                   verbose=1)\n",
    "clf.fit(x_train, y_train.ravel())"
   ]
  },
  {
   "cell_type": "code",
   "execution_count": 34,
   "metadata": {},
   "outputs": [
    {
     "data": {
      "text/html": [
       "<div>\n",
       "<style scoped>\n",
       "    .dataframe tbody tr th:only-of-type {\n",
       "        vertical-align: middle;\n",
       "    }\n",
       "\n",
       "    .dataframe tbody tr th {\n",
       "        vertical-align: top;\n",
       "    }\n",
       "\n",
       "    .dataframe thead th {\n",
       "        text-align: right;\n",
       "    }\n",
       "</style>\n",
       "<table border=\"1\" class=\"dataframe\">\n",
       "  <thead>\n",
       "    <tr style=\"text-align: right;\">\n",
       "      <th></th>\n",
       "      <th>mean_fit_time</th>\n",
       "      <th>std_fit_time</th>\n",
       "      <th>mean_score_time</th>\n",
       "      <th>std_score_time</th>\n",
       "      <th>param_C</th>\n",
       "      <th>param_gamma</th>\n",
       "      <th>param_kernel</th>\n",
       "      <th>params</th>\n",
       "      <th>split0_test_score</th>\n",
       "      <th>split1_test_score</th>\n",
       "      <th>...</th>\n",
       "      <th>mean_test_score</th>\n",
       "      <th>std_test_score</th>\n",
       "      <th>rank_test_score</th>\n",
       "      <th>split0_train_score</th>\n",
       "      <th>split1_train_score</th>\n",
       "      <th>split2_train_score</th>\n",
       "      <th>split3_train_score</th>\n",
       "      <th>split4_train_score</th>\n",
       "      <th>mean_train_score</th>\n",
       "      <th>std_train_score</th>\n",
       "    </tr>\n",
       "  </thead>\n",
       "  <tbody>\n",
       "    <tr>\n",
       "      <th>0</th>\n",
       "      <td>0.070768</td>\n",
       "      <td>0.018073</td>\n",
       "      <td>0.002598</td>\n",
       "      <td>0.000490</td>\n",
       "      <td>1</td>\n",
       "      <td>0.0001</td>\n",
       "      <td>linear</td>\n",
       "      <td>{'C': 1, 'gamma': 0.0001, 'kernel': 'linear'}</td>\n",
       "      <td>0.9250</td>\n",
       "      <td>0.924623</td>\n",
       "      <td>...</td>\n",
       "      <td>0.933131</td>\n",
       "      <td>0.009924</td>\n",
       "      <td>15</td>\n",
       "      <td>0.947903</td>\n",
       "      <td>0.949239</td>\n",
       "      <td>0.939873</td>\n",
       "      <td>0.93426</td>\n",
       "      <td>0.936237</td>\n",
       "      <td>0.941503</td>\n",
       "      <td>0.00606</td>\n",
       "    </tr>\n",
       "    <tr>\n",
       "      <th>1</th>\n",
       "      <td>0.253056</td>\n",
       "      <td>0.010259</td>\n",
       "      <td>0.039382</td>\n",
       "      <td>0.004326</td>\n",
       "      <td>1</td>\n",
       "      <td>0.0001</td>\n",
       "      <td>rbf</td>\n",
       "      <td>{'C': 1, 'gamma': 0.0001, 'kernel': 'rbf'}</td>\n",
       "      <td>0.6775</td>\n",
       "      <td>0.685930</td>\n",
       "      <td>...</td>\n",
       "      <td>0.689970</td>\n",
       "      <td>0.023890</td>\n",
       "      <td>32</td>\n",
       "      <td>1.000000</td>\n",
       "      <td>1.000000</td>\n",
       "      <td>1.000000</td>\n",
       "      <td>1.00000</td>\n",
       "      <td>1.000000</td>\n",
       "      <td>1.000000</td>\n",
       "      <td>0.00000</td>\n",
       "    </tr>\n",
       "    <tr>\n",
       "      <th>2</th>\n",
       "      <td>0.066160</td>\n",
       "      <td>0.012667</td>\n",
       "      <td>0.002000</td>\n",
       "      <td>0.000002</td>\n",
       "      <td>1</td>\n",
       "      <td>0.001</td>\n",
       "      <td>linear</td>\n",
       "      <td>{'C': 1, 'gamma': 0.001, 'kernel': 'linear'}</td>\n",
       "      <td>0.9250</td>\n",
       "      <td>0.924623</td>\n",
       "      <td>...</td>\n",
       "      <td>0.933131</td>\n",
       "      <td>0.009924</td>\n",
       "      <td>15</td>\n",
       "      <td>0.947903</td>\n",
       "      <td>0.949239</td>\n",
       "      <td>0.939873</td>\n",
       "      <td>0.93426</td>\n",
       "      <td>0.936237</td>\n",
       "      <td>0.941503</td>\n",
       "      <td>0.00606</td>\n",
       "    </tr>\n",
       "    <tr>\n",
       "      <th>3</th>\n",
       "      <td>0.287643</td>\n",
       "      <td>0.007242</td>\n",
       "      <td>0.039372</td>\n",
       "      <td>0.000488</td>\n",
       "      <td>1</td>\n",
       "      <td>0.001</td>\n",
       "      <td>rbf</td>\n",
       "      <td>{'C': 1, 'gamma': 0.001, 'kernel': 'rbf'}</td>\n",
       "      <td>0.4950</td>\n",
       "      <td>0.520101</td>\n",
       "      <td>...</td>\n",
       "      <td>0.510638</td>\n",
       "      <td>0.024010</td>\n",
       "      <td>36</td>\n",
       "      <td>1.000000</td>\n",
       "      <td>1.000000</td>\n",
       "      <td>1.000000</td>\n",
       "      <td>1.00000</td>\n",
       "      <td>1.000000</td>\n",
       "      <td>1.000000</td>\n",
       "      <td>0.00000</td>\n",
       "    </tr>\n",
       "    <tr>\n",
       "      <th>4</th>\n",
       "      <td>0.069560</td>\n",
       "      <td>0.014949</td>\n",
       "      <td>0.002597</td>\n",
       "      <td>0.000491</td>\n",
       "      <td>1</td>\n",
       "      <td>0.01</td>\n",
       "      <td>linear</td>\n",
       "      <td>{'C': 1, 'gamma': 0.01, 'kernel': 'linear'}</td>\n",
       "      <td>0.9250</td>\n",
       "      <td>0.924623</td>\n",
       "      <td>...</td>\n",
       "      <td>0.933131</td>\n",
       "      <td>0.009924</td>\n",
       "      <td>15</td>\n",
       "      <td>0.947903</td>\n",
       "      <td>0.949239</td>\n",
       "      <td>0.939873</td>\n",
       "      <td>0.93426</td>\n",
       "      <td>0.936237</td>\n",
       "      <td>0.941503</td>\n",
       "      <td>0.00606</td>\n",
       "    </tr>\n",
       "  </tbody>\n",
       "</table>\n",
       "<p>5 rows × 23 columns</p>\n",
       "</div>"
      ],
      "text/plain": [
       "   mean_fit_time  std_fit_time  mean_score_time  std_score_time param_C  \\\n",
       "0       0.070768      0.018073         0.002598        0.000490       1   \n",
       "1       0.253056      0.010259         0.039382        0.004326       1   \n",
       "2       0.066160      0.012667         0.002000        0.000002       1   \n",
       "3       0.287643      0.007242         0.039372        0.000488       1   \n",
       "4       0.069560      0.014949         0.002597        0.000491       1   \n",
       "\n",
       "  param_gamma param_kernel                                         params  \\\n",
       "0      0.0001       linear  {'C': 1, 'gamma': 0.0001, 'kernel': 'linear'}   \n",
       "1      0.0001          rbf     {'C': 1, 'gamma': 0.0001, 'kernel': 'rbf'}   \n",
       "2       0.001       linear   {'C': 1, 'gamma': 0.001, 'kernel': 'linear'}   \n",
       "3       0.001          rbf      {'C': 1, 'gamma': 0.001, 'kernel': 'rbf'}   \n",
       "4        0.01       linear    {'C': 1, 'gamma': 0.01, 'kernel': 'linear'}   \n",
       "\n",
       "   split0_test_score  split1_test_score       ...         mean_test_score  \\\n",
       "0             0.9250           0.924623       ...                0.933131   \n",
       "1             0.6775           0.685930       ...                0.689970   \n",
       "2             0.9250           0.924623       ...                0.933131   \n",
       "3             0.4950           0.520101       ...                0.510638   \n",
       "4             0.9250           0.924623       ...                0.933131   \n",
       "\n",
       "   std_test_score  rank_test_score  split0_train_score  split1_train_score  \\\n",
       "0        0.009924               15            0.947903            0.949239   \n",
       "1        0.023890               32            1.000000            1.000000   \n",
       "2        0.009924               15            0.947903            0.949239   \n",
       "3        0.024010               36            1.000000            1.000000   \n",
       "4        0.009924               15            0.947903            0.949239   \n",
       "\n",
       "   split2_train_score  split3_train_score  split4_train_score  \\\n",
       "0            0.939873             0.93426            0.936237   \n",
       "1            1.000000             1.00000            1.000000   \n",
       "2            0.939873             0.93426            0.936237   \n",
       "3            1.000000             1.00000            1.000000   \n",
       "4            0.939873             0.93426            0.936237   \n",
       "\n",
       "   mean_train_score  std_train_score  \n",
       "0          0.941503          0.00606  \n",
       "1          1.000000          0.00000  \n",
       "2          0.941503          0.00606  \n",
       "3          1.000000          0.00000  \n",
       "4          0.941503          0.00606  \n",
       "\n",
       "[5 rows x 23 columns]"
      ]
     },
     "execution_count": 34,
     "metadata": {},
     "output_type": "execute_result"
    }
   ],
   "source": [
    "# Toda la informacion del entrenamiento esta en cv_results_\n",
    "scores = clf.cv_results_\n",
    "#Veamosla ...\n",
    "pd.DataFrame.from_dict(scores).head()"
   ]
  },
  {
   "cell_type": "code",
   "execution_count": 35,
   "metadata": {},
   "outputs": [
    {
     "name": "stdout",
     "output_type": "stream",
     "text": [
      "El mejor parametro es {'C': 10, 'gamma': 0.0001, 'kernel': 'linear'} con una performance de 0.93\n"
     ]
    }
   ],
   "source": [
    "print(\"El mejor parametro es %s con una performance de %0.2f\" % (clf.best_params_, clf.best_score_))"
   ]
  },
  {
   "cell_type": "code",
   "execution_count": 36,
   "metadata": {},
   "outputs": [
    {
     "name": "stdout",
     "output_type": "stream",
     "text": [
      "0.9433293978748524\n"
     ]
    }
   ],
   "source": [
    "print(clf.score(x_test,y_test.ravel()))"
   ]
  },
  {
   "cell_type": "code",
   "execution_count": 37,
   "metadata": {},
   "outputs": [
    {
     "name": "stdout",
     "output_type": "stream",
     "text": [
      "[ 0  0 10  9  7  3  4  5  7  6 10  5  2 10  1  4  7  9  7  3  2  8 12  9\n",
      " 11  7  0  9  3 11  0  3  6  2 14 12  7  8 14  5  1  9  1  0  7  6  4 11\n",
      " 11  3  2  3  5 10 12  1  1  1 14 13  3 11  8  4  0 10 11  3  5 14 12  7\n",
      "  0  6 10  1  1  7  0  8 12  0 13  6  7  2  2  6  2  6  2  5 11  9  0 13\n",
      "  7 13  3  2  2  7 11  4  3  3 10 10 10  8 12  9  3 10  7 14 13  9  4  6\n",
      "  3 10  8  0  9  7  0  1  2  9 10  3  4  0 12  6 13  3 12 10  1 13  9  2\n",
      "  3 14  9  3  0 13  9  0  6  7  6  3 12  3  5 13  0  0  6  2  9  3  2 13\n",
      "  5  1  7  8  2  7  8 12 14  1  0  0  6 13  8 11  9  8  0  0  4 12  5  0\n",
      "  0  6  4  6  0  7  5 10  4 13  9 13  2 11  4  1  2 13  0  0  9  7  5  6\n",
      " 10 12  6  1  5 10  6  1  7  8  3  8 12  2  1  4  6  7  5  1 11  6  5  0\n",
      "  2  3 10 10 14  0  3  0  2 12  2  6  3  7  7  0  4  3 13  2 13  0 14  8\n",
      "  2  9  3 12 11  7  6  8  2  8  2  7  3 12  0  7 12  6  8 14 11  3 13  6\n",
      " 14  7 13  2  9 13  6  0  7 10 13  9 12 13 14 12 12  0  6  5  6 13  3  9\n",
      "  0  4 10  5 14  0  5  3  0 10  3  3 13 13  0 13 14 13  4 14  4 11  2 12\n",
      "  8  1  6 10  9  8 10  5  3 12 13  1  4  5 11 12  7  9  6  2  9 11  6 12\n",
      " 12  0  2  5  3  4  2 14  9  7  9 13  2  3  5  7 12 12  0  9  9  9  3  9\n",
      " 11  4  3 12 14 11  4 10 11  1  5 10  3  8  6  2  9 10  0 13 14  7  4  2\n",
      " 13 14  0 11 12  0  7  6  7  7  0 14  6  5  4  0  6  1  2  4  3  2  4 11\n",
      "  3  2 12 13 11  6 12  2  3 12  3  0  3  4 12  7  6  5  4  0  5  0 11  0\n",
      "  0  5  5  6  2 10 13  4  3  6  3  4  4 12  7  7  3  0 14 10 13  7  2  1\n",
      " 13  6  1  6 12  8  0  9  6  7  0  7  3  6 13  9  5  1  2  0  2 12  1  6\n",
      "  0 13  7 11 10  7 13  8  2  9 12 14  4  3 13  3  8  6  5  3  5 13  3  4\n",
      "  0 10  2 11  2 14  8  9 14  4 10  6  3  7  6  2 14 14  8  6  8  3  8  9\n",
      "  3  8  4  3  8 12  2  7 12  9  3 11  6  8  7  4  7  8  5 11  1  1  9  0\n",
      "  0  8  8 13 12  4 10  1  3  9  2 10  2  6  0 13  9 10 11 11  5  2  8  4\n",
      "  3  8  6 13 14  7  0  0  0 14  8  9  7 13  8  3 10  3  1  8  3  7  0  8\n",
      "  3 10  8 11  2  0  8  7 10  5 13  4  1 11  2  4  4 12  0  6 13 13 11 11\n",
      "  4  8  0 10 14  6  7 10  7  1  4  7  7  0  8  0  0 10  6  3 10  9  7  9\n",
      "  6  0 10 11  9  0  0  0  5  3 11  6  3 12  2  4  6  8  0 14  0  6  8  3\n",
      "  3  8  0 13  0  8  4 10  9  0  8 12 12  5  4 14  3 12  5  7  2 11  6 14\n",
      "  3 11 14 12  6 12  3  4 12  4  3 12  3 11 12  5  6  7 13  4  2  5  2  0\n",
      "  8 10  7  4 14  4  9 14  7  8  7  2  1  7 13  3  9  2  5  4 12  2  8  6\n",
      "  9  3  4 14  9  8  6  8  9 13  7  0  8 11  0  0  6  6 12 10  4  9  4  3\n",
      "  0  4  0  7 11 11  2 11  8  5  0 14 10 14  6  5  9  4  3 11  3  8 14 14\n",
      "  7  6 10  3  4 12 13  7  6  6 10  5  4 12  3  3  1 10  9 14  2 12 12  3\n",
      "  0  9  7 13 13 14  5]\n"
     ]
    }
   ],
   "source": [
    "# Prediction sobre las muestras de test\n",
    "y_pred = clf.predict(x_test)\n",
    "print(y_pred)"
   ]
  },
  {
   "cell_type": "markdown",
   "metadata": {},
   "source": [
    "La matriz de confusión nos ayudará a ver el desempeño del algoritmo empleado para clasificar, identificando si el sistema está confundiendo dos clases. Cada columna de la matriz representa el número de predicciones de cada clase, mientras que cada fila representa a las instancias en la clase real."
   ]
  },
  {
   "cell_type": "code",
   "execution_count": 38,
   "metadata": {},
   "outputs": [
    {
     "data": {
      "image/png": "[encoded data removed]",
      "text/plain": [
       "<Figure size 576x576 with 2 Axes>"
      ]
     },
     "metadata": {
      "needs_background": "light"
     },
     "output_type": "display_data"
    }
   ],
   "source": [
    "cm = confusion_matrix(y_test, y_pred)\n",
    "df_cm = pd.DataFrame(cm, #Valores\n",
    "                     index = [i for i in np.unique(Y)], # rows\n",
    "                     columns = [i for i in np.unique(Y)]) # Column\n",
    "plt.figure(figsize = (8,8))\n",
    "ax = sns.heatmap(df_cm, annot=True, cmap=\"YlGnBu\")\n",
    "plt.yticks(rotation=0)\n",
    "ax.xaxis.tick_top() # x axis on top\n",
    "ax.xaxis.set_label_position('top')\n",
    "plt.show()"
   ]
  },
  {
   "cell_type": "code",
   "execution_count": 39,
   "metadata": {},
   "outputs": [
    {
     "name": "stdout",
     "output_type": "stream",
     "text": [
      "El accuracy es 0.9433293978748524\n"
     ]
    }
   ],
   "source": [
    "# Computo el accuracy (comparar ytest vs ypred)\n",
    "test_acc = accuracy_score(y_test, y_pred)\n",
    "print(\"El accuracy es \" + str(test_acc))"
   ]
  },
  {
   "cell_type": "markdown",
   "metadata": {},
   "source": [
    "MODELO KNN\n",
    "Pruebo a ver su consigo mejor accuracy.\n",
    "\n",
    "Se estimó el hiperparámetro manualmente, evaluando cómo influía en la accuracy."
   ]
  },
  {
   "cell_type": "code",
   "execution_count": 40,
   "metadata": {},
   "outputs": [
    {
     "name": "stdout",
     "output_type": "stream",
     "text": [
      "El accuracy es 0.9775678866587958\n"
     ]
    }
   ],
   "source": [
    "neigh = KNeighborsClassifier(n_neighbors=1)\n",
    "neigh.fit(x_train, y_train)\n",
    "y_pred = neigh.predict(x_test)\n",
    "test_acc = accuracy_score(y_test, y_pred)\n",
    "print(\"El accuracy es \" + str(test_acc))"
   ]
  },
  {
   "cell_type": "code",
   "execution_count": 41,
   "metadata": {},
   "outputs": [
    {
     "data": {
      "image/png": "[encoded data removed]",
      "text/plain": [
       "<Figure size 576x576 with 2 Axes>"
      ]
     },
     "metadata": {
      "needs_background": "light"
     },
     "output_type": "display_data"
    }
   ],
   "source": [
    "cm = confusion_matrix(y_test, y_pred)\n",
    "df_cm = pd.DataFrame(cm, index = [i for i in np.unique(Y)],columns = [i for i in np.unique(Y)])\n",
    "plt.figure(figsize = (8,8))\n",
    "sns.heatmap(df_cm, annot=True, cmap=\"YlGnBu\")\n",
    "plt.show()"
   ]
  },
  {
   "cell_type": "code",
   "execution_count": 42,
   "metadata": {},
   "outputs": [
    {
     "name": "stdout",
     "output_type": "stream",
     "text": [
      "El accuracy es 0.9775678866587958\n"
     ]
    }
   ],
   "source": [
    "# Computo el accuracy (comparar ytest vs ypred)\n",
    "test_acc = accuracy_score(y_test, y_pred)\n",
    "print(\"El accuracy es \" + str(test_acc))"
   ]
  },
  {
   "cell_type": "code",
   "execution_count": 43,
   "metadata": {},
   "outputs": [
    {
     "data": {
      "image/png": "[encoded data removed]",
      "text/plain": [
       "<Figure size 432x288 with 1 Axes>"
      ]
     },
     "metadata": {
      "needs_background": "light"
     },
     "output_type": "display_data"
    }
   ],
   "source": [
    "iteraciones_knn = 22\n",
    "acc_knn = np.zeros(iteraciones_knn)\n",
    "for r in range(0,iteraciones_knn):\n",
    "    neigh = KNeighborsClassifier(n_neighbors=r+1)\n",
    "    neigh.fit(x_train,y_train)\n",
    "    y_pred_knn = neigh.predict(x_test)\n",
    "    acc_knn[r] = accuracy_score(y_test, y_pred_knn)\n",
    "    \n",
    "plt.plot(acc_knn)\n",
    "plt.xlabel(\"valor de K\")\n",
    "plt.ylabel(\"Variación de accuracy utilizando distintos K\")\n",
    "plt.show()"
   ]
  },
  {
   "cell_type": "code",
   "execution_count": null,
   "metadata": {},
   "outputs": [],
   "source": []
  },
  {
   "cell_type": "code",
   "execution_count": null,
   "metadata": {},
   "outputs": [],
   "source": []
  },
  {
   "cell_type": "code",
   "execution_count": null,
   "metadata": {},
   "outputs": [],
   "source": []
  }
 ],
 "metadata": {
  "colab": {
   "collapsed_sections": [],
   "name": "Trabajo practico .ipynb",
   "provenance": []
  },
  "kernelspec": {
   "display_name": "Python 3",
   "language": "python",
   "name": "python3"
  },
  "language_info": {
   "codemirror_mode": {
    "name": "ipython",
    "version": 3
   },
   "file_extension": ".py",
   "mimetype": "text/x-python",
   "name": "python",
   "nbconvert_exporter": "python",
   "pygments_lexer": "ipython3",
   "version": "3.7.1"
  }
 },
 "nbformat": 4,
 "nbformat_minor": 1
}
